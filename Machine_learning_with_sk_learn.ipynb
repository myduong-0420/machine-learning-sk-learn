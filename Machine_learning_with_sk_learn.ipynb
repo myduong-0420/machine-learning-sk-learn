{
  "nbformat": 4,
  "nbformat_minor": 0,
  "metadata": {
    "colab": {
      "provenance": [],
      "authorship_tag": "ABX9TyMXe85fvtKPCHG9CDqGjiRm",
      "include_colab_link": true
    },
    "kernelspec": {
      "name": "python3",
      "display_name": "Python 3"
    },
    "language_info": {
      "name": "python"
    }
  },
  "cells": [
    {
      "cell_type": "markdown",
      "metadata": {
        "id": "view-in-github",
        "colab_type": "text"
      },
      "source": [
        "<a href=\"https://colab.research.google.com/github/myduong-0420/machine-learning-sk-learn/blob/main/Machine_learning_with_sk_learn.ipynb\" target=\"_parent\"><img src=\"https://colab.research.google.com/assets/colab-badge.svg\" alt=\"Open In Colab\"/></a>"
      ]
    },
    {
      "cell_type": "code",
      "execution_count": null,
      "metadata": {
        "colab": {
          "base_uri": "https://localhost:8080/"
        },
        "id": "llBiDjduraeY",
        "outputId": "118a6391-de2f-404b-8385-d5767b955da0"
      },
      "outputs": [
        {
          "output_type": "stream",
          "name": "stdout",
          "text": [
            "sk-learn\n"
          ]
        }
      ],
      "source": [
        "print('sk-learn')"
      ]
    },
    {
      "cell_type": "code",
      "source": [],
      "metadata": {
        "id": "Thd0MsPb2niA"
      },
      "execution_count": null,
      "outputs": []
    }
  ]
}